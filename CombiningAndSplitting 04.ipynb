{
 "cells": [
  {
   "cell_type": "code",
   "execution_count": 1,
   "id": "c67d8b59-59f3-4b9e-9e81-d2a7ebc653cb",
   "metadata": {},
   "outputs": [],
   "source": [
    "import numpy as np"
   ]
  },
  {
   "cell_type": "code",
   "execution_count": 2,
   "id": "ddfaa06f-35f3-4319-8cee-f3997faf2593",
   "metadata": {},
   "outputs": [
    {
     "name": "stdout",
     "output_type": "stream",
     "text": [
      "[37 39 77 28]\n"
     ]
    }
   ],
   "source": [
    "a = np.array([12,13,15,16])\n",
    "b= np.array([25,26,62,12])\n",
    "print(a+b)"
   ]
  },
  {
   "cell_type": "code",
   "execution_count": 3,
   "id": "80c689c5-3d56-4fcf-886d-7927cce55e0e",
   "metadata": {},
   "outputs": [
    {
     "name": "stdout",
     "output_type": "stream",
     "text": [
      "[12 13 15 16 25 26 62 12]\n"
     ]
    }
   ],
   "source": [
    "#concatenate(combine two array)\n",
    "arr1 = np.array([12,13,15,16])\n",
    "arr2= np.array([25,26,62,12])\n",
    "print(np.concatenate([arr1,arr2]))\n"
   ]
  },
  {
   "cell_type": "code",
   "execution_count": 4,
   "id": "6d4b8b24-a605-4e6d-9e57-60dc5e9bbb08",
   "metadata": {},
   "outputs": [
    {
     "name": "stdout",
     "output_type": "stream",
     "text": [
      "[12 13 15 16 25 26 62 12]\n"
     ]
    }
   ],
   "source": [
    "print(np.concatenate([arr1,arr2],axis= 0)) #for a single 1D."
   ]
  },
  {
   "cell_type": "code",
   "execution_count": 5,
   "id": "80a41558-bca4-4168-9fbd-1a5a6bdda55f",
   "metadata": {},
   "outputs": [],
   "source": [
    "arr1 = np.array([[12,13],[15,16]])\n",
    "arr2= np.array([[25,26],[62,12]])"
   ]
  },
  {
   "cell_type": "code",
   "execution_count": 6,
   "id": "15461f3a-b056-44b0-b4fe-10a29405b0f8",
   "metadata": {},
   "outputs": [
    {
     "name": "stdout",
     "output_type": "stream",
     "text": [
      "[[12 13 25 26]\n",
      " [15 16 62 12]]\n"
     ]
    }
   ],
   "source": [
    "print(np.concatenate([arr1,arr2],axis= 1)) #for  2d"
   ]
  },
  {
   "cell_type": "code",
   "execution_count": 7,
   "id": "edfc006a-c869-498f-9145-3b73b412e555",
   "metadata": {},
   "outputs": [
    {
     "name": "stdout",
     "output_type": "stream",
     "text": [
      "[[12 13 25 26]\n",
      " [15 16 62 12]]\n"
     ]
    }
   ],
   "source": [
    "print(np.hstack([arr1,arr2])) #hstack is horizontalstak, \n",
    "#concatenating in horizontal way"
   ]
  },
  {
   "cell_type": "code",
   "execution_count": 8,
   "id": "68cd8863-ba22-42f4-a4ce-e1a7d30be4f1",
   "metadata": {},
   "outputs": [
    {
     "name": "stdout",
     "output_type": "stream",
     "text": [
      "[[12 13]\n",
      " [15 16]\n",
      " [25 26]\n",
      " [62 12]]\n"
     ]
    }
   ],
   "source": [
    "print(np.vstack([arr1,arr2])) #vstack is vertcial stack,\n",
    "#concatenating in vertical way"
   ]
  },
  {
   "cell_type": "code",
   "execution_count": 9,
   "id": "e6b0d778-82f0-429c-bf95-65fd8dcf2276",
   "metadata": {},
   "outputs": [],
   "source": [
    "a = np.array([1,2,3,4,5])"
   ]
  },
  {
   "cell_type": "code",
   "execution_count": 10,
   "id": "ed2bb8d7-9241-4d6d-9ca1-5531506b3a82",
   "metadata": {},
   "outputs": [
    {
     "name": "stdout",
     "output_type": "stream",
     "text": [
      "[1 2 3 4 5]\n"
     ]
    }
   ],
   "source": [
    "print(np.array(a))"
   ]
  },
  {
   "cell_type": "code",
   "execution_count": 11,
   "id": "0ea37716-399e-46dc-892d-5630fc8256c5",
   "metadata": {},
   "outputs": [
    {
     "name": "stdout",
     "output_type": "stream",
     "text": [
      "[array([1, 2]), array([3, 4]), array([5])]\n",
      "[3 4]\n"
     ]
    }
   ],
   "source": [
    "b=(np.array_split(a,3)) #splits array \"a\" \n",
    "#into 3 seperate arrays are store in b,\n",
    "#print b\n",
    "print(b)\n",
    "print(b[1])"
   ]
  },
  {
   "cell_type": "code",
   "execution_count": 12,
   "id": "d99f7a4a-e56b-410f-ab6a-0787033c85ec",
   "metadata": {},
   "outputs": [],
   "source": [
    "a = np.array([[1,2,3],[4,5,6]]) #if 2 array then,  also same way of splitting"
   ]
  },
  {
   "cell_type": "code",
   "execution_count": 13,
   "id": "b72dc9ed-49b5-48a4-9ec1-6682e402e4ee",
   "metadata": {},
   "outputs": [
    {
     "name": "stdout",
     "output_type": "stream",
     "text": [
      "[array([[1, 2, 3]]), array([[4, 5, 6]])]\n"
     ]
    }
   ],
   "source": [
    "print(np.array_split(a,2))"
   ]
  },
  {
   "cell_type": "code",
   "execution_count": null,
   "id": "1a5229c4-78dd-4bc4-bb94-cc3ab0a1cf2c",
   "metadata": {},
   "outputs": [],
   "source": []
  }
 ],
 "metadata": {
  "kernelspec": {
   "display_name": "Python 3 (ipykernel)",
   "language": "python",
   "name": "python3"
  },
  "language_info": {
   "codemirror_mode": {
    "name": "ipython",
    "version": 3
   },
   "file_extension": ".py",
   "mimetype": "text/x-python",
   "name": "python",
   "nbconvert_exporter": "python",
   "pygments_lexer": "ipython3",
   "version": "3.12.4"
  }
 },
 "nbformat": 4,
 "nbformat_minor": 5
}
