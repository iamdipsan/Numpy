{
 "cells": [
  {
   "cell_type": "code",
   "execution_count": 1,
   "id": "41454377-edee-4391-829d-7e6f34ecc6d0",
   "metadata": {},
   "outputs": [],
   "source": [
    "import numpy as np"
   ]
  },
  {
   "cell_type": "code",
   "execution_count": 2,
   "id": "4c1fdfdb-27e4-44f2-9bf2-12a7e74969bf",
   "metadata": {},
   "outputs": [],
   "source": [
    "arr = np.array([1,2,3,4,5]) #array creations,1D"
   ]
  },
  {
   "cell_type": "code",
   "execution_count": 3,
   "id": "47da4fb9-74ad-4262-9d7a-7d82a79e2b06",
   "metadata": {},
   "outputs": [
    {
     "data": {
      "text/plain": [
       "array([1, 2, 3, 4, 5])"
      ]
     },
     "execution_count": 3,
     "metadata": {},
     "output_type": "execute_result"
    }
   ],
   "source": [
    "arr"
   ]
  },
  {
   "cell_type": "code",
   "execution_count": 4,
   "id": "d9e6509e-53d6-4ffe-9eda-25fd1a6538fd",
   "metadata": {},
   "outputs": [
    {
     "name": "stdout",
     "output_type": "stream",
     "text": [
      "[1 2 3 4 5]\n"
     ]
    }
   ],
   "source": [
    "print(arr) #printing array"
   ]
  },
  {
   "cell_type": "code",
   "execution_count": 5,
   "id": "cfe90a73-5ad5-4afe-9e5a-83ce8024f444",
   "metadata": {},
   "outputs": [
    {
     "name": "stdout",
     "output_type": "stream",
     "text": [
      "<class 'numpy.ndarray'>\n"
     ]
    }
   ],
   "source": [
    "print(type(arr))"
   ]
  },
  {
   "cell_type": "code",
   "execution_count": 6,
   "id": "4e474c8a-9ebe-4d3a-a762-abeae7a8e146",
   "metadata": {},
   "outputs": [
    {
     "data": {
      "text/plain": [
       "5"
      ]
     },
     "execution_count": 6,
     "metadata": {},
     "output_type": "execute_result"
    }
   ],
   "source": [
    "arr.size #knowing  the array size"
   ]
  },
  {
   "cell_type": "code",
   "execution_count": 7,
   "id": "ab3c24a6-afe9-4649-ab8a-828b89241c42",
   "metadata": {},
   "outputs": [
    {
     "data": {
      "text/plain": [
       "(5,)"
      ]
     },
     "execution_count": 7,
     "metadata": {},
     "output_type": "execute_result"
    }
   ],
   "source": [
    "arr.shape #array shape"
   ]
  },
  {
   "cell_type": "code",
   "execution_count": 8,
   "id": "bb0dc018-184d-4737-8b88-cf59fcd897be",
   "metadata": {},
   "outputs": [
    {
     "data": {
      "text/plain": [
       "array([1, 2, 3])"
      ]
     },
     "execution_count": 8,
     "metadata": {},
     "output_type": "execute_result"
    }
   ],
   "source": [
    "arr[0:3] #slicing in array ,starts from 0 till 2, doesnt count till 3."
   ]
  },
  {
   "cell_type": "code",
   "execution_count": 9,
   "id": "2848f233-cd34-493d-b65d-810a9082c0fe",
   "metadata": {},
   "outputs": [
    {
     "name": "stdout",
     "output_type": "stream",
     "text": [
      "[1 2 3]\n"
     ]
    }
   ],
   "source": [
    "print(arr[0:3]) #printing the sliced elemenets"
   ]
  },
  {
   "cell_type": "code",
   "execution_count": 10,
   "id": "34e5da2e-5106-46ba-99b3-f920045e0121",
   "metadata": {},
   "outputs": [
    {
     "data": {
      "text/plain": [
       "array([1, 2, 3, 4, 5])"
      ]
     },
     "execution_count": 10,
     "metadata": {},
     "output_type": "execute_result"
    }
   ],
   "source": [
    "arr[0:]"
   ]
  },
  {
   "cell_type": "code",
   "execution_count": 11,
   "id": "12e6852d-2fb0-4e48-b708-5d1a9b02f115",
   "metadata": {},
   "outputs": [
    {
     "data": {
      "text/plain": [
       "array([1, 2])"
      ]
     },
     "execution_count": 11,
     "metadata": {},
     "output_type": "execute_result"
    }
   ],
   "source": [
    "arr[:2]"
   ]
  },
  {
   "cell_type": "code",
   "execution_count": 12,
   "id": "dc6e19b1-154d-4aad-80e4-2a4517f28bce",
   "metadata": {},
   "outputs": [
    {
     "name": "stdout",
     "output_type": "stream",
     "text": [
      "[1 2 3]\n"
     ]
    }
   ],
   "source": [
    "print(arr[0:3])"
   ]
  },
  {
   "cell_type": "code",
   "execution_count": 13,
   "id": "7b4f604b-6d1c-44b3-8319-b7851046a0e4",
   "metadata": {},
   "outputs": [
    {
     "name": "stdout",
     "output_type": "stream",
     "text": [
      "[3 4 5]\n"
     ]
    }
   ],
   "source": [
    "print(arr[2:])"
   ]
  },
  {
   "cell_type": "code",
   "execution_count": 14,
   "id": "46723ecc-fd0f-4354-b769-ee1f66bf7524",
   "metadata": {},
   "outputs": [
    {
     "name": "stdout",
     "output_type": "stream",
     "text": [
      "[4 5]\n"
     ]
    }
   ],
   "source": [
    "print(arr[3:5])"
   ]
  },
  {
   "cell_type": "code",
   "execution_count": 15,
   "id": "87399d6b-c5ef-4f43-888a-fdb2ab00e7a2",
   "metadata": {},
   "outputs": [],
   "source": [
    "newarr = np.array([[1,2,3,4,5], [6,7,8,9,10],[11,12,13,14,15]]) \n",
    "#creation of 2d arryas"
   ]
  },
  {
   "cell_type": "code",
   "execution_count": 16,
   "id": "44e7ea30-4a09-44a9-ae88-89c1c87728ad",
   "metadata": {},
   "outputs": [
    {
     "name": "stdout",
     "output_type": "stream",
     "text": [
      "[[ 1  2  3  4  5]\n",
      " [ 6  7  8  9 10]\n",
      " [11 12 13 14 15]]\n"
     ]
    }
   ],
   "source": [
    "print(newarr) #printing the 2d arrays"
   ]
  },
  {
   "cell_type": "code",
   "execution_count": 17,
   "id": "8e4538b7-0fc2-459c-b615-31c339cbf8dd",
   "metadata": {},
   "outputs": [
    {
     "data": {
      "text/plain": [
       "2"
      ]
     },
     "execution_count": 17,
     "metadata": {},
     "output_type": "execute_result"
    }
   ],
   "source": [
    "newarr[0,1] #zeroth row, 2nd column \n",
    "#indexing  starts from 0\n",
    "#finding elements in 2d array"
   ]
  },
  {
   "cell_type": "code",
   "execution_count": 18,
   "id": "6f7a561a-9d30-400b-ac99-0ec307cf082b",
   "metadata": {},
   "outputs": [
    {
     "data": {
      "text/plain": [
       "7"
      ]
     },
     "execution_count": 18,
     "metadata": {},
     "output_type": "execute_result"
    }
   ],
   "source": [
    "newarr[1,1] #first row, first column #indexing  starts from 0"
   ]
  },
  {
   "cell_type": "code",
   "execution_count": 19,
   "id": "02ec3878-e91e-4b13-afd6-4e3e3573ff8c",
   "metadata": {},
   "outputs": [
    {
     "name": "stdout",
     "output_type": "stream",
     "text": [
      "[[ 1  2  3  4  5]\n",
      " [ 6  7  8  9 10]\n",
      " [11 12 13 14 15]]\n"
     ]
    }
   ],
   "source": [
    "print(newarr)"
   ]
  },
  {
   "cell_type": "code",
   "execution_count": 20,
   "id": "b734b692-1cf7-40fe-a820-3ac3a7006ac0",
   "metadata": {},
   "outputs": [
    {
     "name": "stdout",
     "output_type": "stream",
     "text": [
      "[[1 2]\n",
      " [6 7]]\n"
     ]
    }
   ],
   "source": [
    "#slicing in 2d array\n",
    "#newarr[row_start:row_end, col_start:col_end]\n",
    "\n",
    "print(newarr[0:2,0:2])  #counts from 0 to 1, doesnt count till 2, so 0 and  1.\n",
    "#0:2 for rows: ie \n",
    "#Row 0: [1, 2, 3, 4, 5]\n",
    "#Row 1: [6, 7, 8, 9, 10]\n",
    "#and\n",
    "#0:2 for columns: ie\n",
    "#Column 0: [1, 6, 11]\n",
    "#Column 1: [2, 7, 12]"
   ]
  },
  {
   "cell_type": "code",
   "execution_count": 21,
   "id": "2d432089-6fb7-442a-8260-e989914d40b1",
   "metadata": {},
   "outputs": [
    {
     "name": "stdout",
     "output_type": "stream",
     "text": [
      "[[1 2 3]\n",
      " [6 7 8]]\n"
     ]
    }
   ],
   "source": [
    "print(newarr[0:2,0:3])  #row from 0 to 2, means 0 and 1\n",
    "#ieRow 0: [1, 2, 3, 4, 5]\n",
    "#Row 1: [6, 7, 8, 9, 10]\n",
    "#and column from 0 to3, means 0,1,2\n",
    "#Column 0: [1, 6, 11]\n",
    "#Column 1: [2, 7, 12]\n",
    "#Column 2: [3, 8, 13]\n",
    "#ie, for rows O and 1, it counts 3 columns."
   ]
  },
  {
   "cell_type": "code",
   "execution_count": 22,
   "id": "3e4e07eb-87b2-46ac-8413-0326c1627199",
   "metadata": {},
   "outputs": [
    {
     "name": "stdout",
     "output_type": "stream",
     "text": [
      "[[1 2]\n",
      " [6 7]]\n"
     ]
    }
   ],
   "source": [
    "print(newarr[0:2,0:2]) #its better to use 0:2 and 0:2 for both rows \n",
    "#and columns,\n",
    "#if wanted 3elements use 0:3 for both\""
   ]
  },
  {
   "cell_type": "code",
   "execution_count": 23,
   "id": "18da460b-8aaf-4127-acb8-0ac12364ef8a",
   "metadata": {},
   "outputs": [
    {
     "name": "stdout",
     "output_type": "stream",
     "text": [
      "[[ 1  2  3]\n",
      " [ 6  7  8]\n",
      " [11 12 13]]\n"
     ]
    }
   ],
   "source": [
    "print(newarr[0:3,0:3])"
   ]
  },
  {
   "cell_type": "code",
   "execution_count": 24,
   "id": "60c1d97e-eb2a-4324-96ca-5f0f00dbdccb",
   "metadata": {},
   "outputs": [
    {
     "name": "stdout",
     "output_type": "stream",
     "text": [
      "[[ 1  2  3  4  5]\n",
      " [ 6  7  8  9 10]\n",
      " [11 12 13 14 15]]\n"
     ]
    }
   ],
   "source": [
    "print(newarr)"
   ]
  },
  {
   "cell_type": "code",
   "execution_count": 25,
   "id": "4058722d-1446-4429-b201-8576ff3023a7",
   "metadata": {},
   "outputs": [
    {
     "name": "stdout",
     "output_type": "stream",
     "text": [
      "[2 3]\n"
     ]
    }
   ],
   "source": [
    "#suppose if i want  to slice 2 and 3 from first row,\n",
    "print(newarr[0,1:3]) #for 0th row, slice from  1 to 3, ie 2 & 3 \n",
    "#here 1 is 0th column, 2 is 1st and 3 is 2nd as, indexing starts from 0"
   ]
  },
  {
   "cell_type": "code",
   "execution_count": 26,
   "id": "172c496a-9a70-48bf-be77-9865851e2cbe",
   "metadata": {},
   "outputs": [
    {
     "name": "stdout",
     "output_type": "stream",
     "text": [
      "[8 9]\n"
     ]
    }
   ],
   "source": [
    "print(newarr[1,2:4]) #2nd row, slice from 2nd column till 4th column, ie 2,3 column, ie  ans 8,9\n",
    "#indexing starts from 0."
   ]
  },
  {
   "cell_type": "code",
   "execution_count": 27,
   "id": "2c11c734-7c41-4de3-bdb2-ec3c2e797135",
   "metadata": {},
   "outputs": [
    {
     "name": "stdout",
     "output_type": "stream",
     "text": [
      "[13 14]\n"
     ]
    }
   ],
   "source": [
    "print(newarr[2,2:4])"
   ]
  },
  {
   "cell_type": "markdown",
   "id": "53481615-9f77-4b40-9427-cef024cc59da",
   "metadata": {},
   "source": [
    "#attributets of array"
   ]
  },
  {
   "cell_type": "code",
   "execution_count": 28,
   "id": "b309adef-5d45-48fd-9e7e-79058f160b95",
   "metadata": {},
   "outputs": [],
   "source": [
    "numbers= np.array([[1,2,3,4,5], [6,7,8,9,10],[11,12,13,14,15]])"
   ]
  },
  {
   "cell_type": "code",
   "execution_count": 29,
   "id": "60033f17-d067-4109-81b4-214cfc9edf39",
   "metadata": {},
   "outputs": [
    {
     "name": "stdout",
     "output_type": "stream",
     "text": [
      "[[ 1  2  3  4  5]\n",
      " [ 6  7  8  9 10]\n",
      " [11 12 13 14 15]]\n"
     ]
    }
   ],
   "source": [
    "print(numbers)"
   ]
  },
  {
   "cell_type": "code",
   "execution_count": 30,
   "id": "1b7c5842-91aa-450e-ac66-5a1c1acbd277",
   "metadata": {},
   "outputs": [
    {
     "data": {
      "text/plain": [
       "15"
      ]
     },
     "execution_count": 30,
     "metadata": {},
     "output_type": "execute_result"
    }
   ],
   "source": [
    "numbers.size"
   ]
  },
  {
   "cell_type": "code",
   "execution_count": 31,
   "id": "e4e719a1-2ab8-49b1-bdf1-2c6c23299674",
   "metadata": {},
   "outputs": [
    {
     "data": {
      "text/plain": [
       "(3, 5)"
      ]
     },
     "execution_count": 31,
     "metadata": {},
     "output_type": "execute_result"
    }
   ],
   "source": [
    "numbers.shape "
   ]
  },
  {
   "cell_type": "code",
   "execution_count": 32,
   "id": "3231eaac-ae00-4a43-9d82-e25834badd9a",
   "metadata": {},
   "outputs": [
    {
     "data": {
      "text/plain": [
       "2"
      ]
     },
     "execution_count": 32,
     "metadata": {},
     "output_type": "execute_result"
    }
   ],
   "source": [
    "numbers.ndim #numbers of dimenions ,ie rows are first dimension  and columns are 2nd dimension"
   ]
  },
  {
   "cell_type": "code",
   "execution_count": 33,
   "id": "2bd09a8b-7884-4cdb-8df8-ade8a1736f00",
   "metadata": {},
   "outputs": [
    {
     "name": "stdout",
     "output_type": "stream",
     "text": [
      "int32\n"
     ]
    }
   ],
   "source": [
    "print(numbers.dtype)"
   ]
  },
  {
   "cell_type": "code",
   "execution_count": null,
   "id": "f8d757e3-38f2-4d49-aa77-d5f2db3a4abb",
   "metadata": {},
   "outputs": [],
   "source": []
  }
 ],
 "metadata": {
  "kernelspec": {
   "display_name": "Python 3 (ipykernel)",
   "language": "python",
   "name": "python3"
  },
  "language_info": {
   "codemirror_mode": {
    "name": "ipython",
    "version": 3
   },
   "file_extension": ".py",
   "mimetype": "text/x-python",
   "name": "python",
   "nbconvert_exporter": "python",
   "pygments_lexer": "ipython3",
   "version": "3.12.4"
  }
 },
 "nbformat": 4,
 "nbformat_minor": 5
}
