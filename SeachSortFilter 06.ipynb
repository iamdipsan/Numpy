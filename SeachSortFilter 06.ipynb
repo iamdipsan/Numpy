{
 "cells": [
  {
   "cell_type": "code",
   "execution_count": 1,
   "id": "5f85728c-5496-4912-8784-26e07cddcf06",
   "metadata": {},
   "outputs": [],
   "source": [
    "import numpy as np"
   ]
  },
  {
   "cell_type": "code",
   "execution_count": 2,
   "id": "387ef511-db37-4eb9-a6c9-69e3a8a2fa6c",
   "metadata": {},
   "outputs": [
    {
     "name": "stdout",
     "output_type": "stream",
     "text": [
      "[17 55 21 12 14 88 33 46 66]\n"
     ]
    }
   ],
   "source": [
    "arr = np.array([17,55,21,12,14,88,33,46,66]) #create an unsorted array.\n",
    "print(arr)"
   ]
  },
  {
   "cell_type": "code",
   "execution_count": 3,
   "id": "9e7a04b7-4269-4d52-afef-d89c385f285f",
   "metadata": {},
   "outputs": [
    {
     "name": "stdout",
     "output_type": "stream",
     "text": [
      "[12 14 17 21 33 46 55 66 88]\n"
     ]
    }
   ],
   "source": [
    "sorted_arr = np.sort(arr)  #sorting the array\n",
    "print(sorted_arr)"
   ]
  },
  {
   "cell_type": "code",
   "execution_count": 4,
   "id": "13db1610-05b3-4793-82d7-763b9508eda6",
   "metadata": {},
   "outputs": [
    {
     "name": "stdout",
     "output_type": "stream",
     "text": [
      "[[17 55 21 12]\n",
      " [14 88 33 46]]\n"
     ]
    }
   ],
   "source": [
    "arr = np.array([[17,55,21,12],[14,88,33,46]])#create an  2d unsorted array.\n",
    "print(arr)"
   ]
  },
  {
   "cell_type": "code",
   "execution_count": 5,
   "id": "65a0e9f0-3b12-4ab4-8b7a-0b66054a0819",
   "metadata": {},
   "outputs": [
    {
     "name": "stdout",
     "output_type": "stream",
     "text": [
      "[[12 17 21 55]\n",
      " [14 33 46 88]]\n"
     ]
    }
   ],
   "source": [
    "sorted_arr = np.sort(arr)\n",
    "print(sorted_arr)"
   ]
  },
  {
   "cell_type": "code",
   "execution_count": 6,
   "id": "e1c8d9e8-cba1-49b5-9a26-6c24b2f67702",
   "metadata": {},
   "outputs": [
    {
     "name": "stdout",
     "output_type": "stream",
     "text": [
      "(array([2], dtype=int64),)\n"
     ]
    }
   ],
   "source": [
    "arr = np.array([17,55,21,12,14,88,33,46,66])\n",
    "searched_value = np.where(arr == 21)\n",
    "print(searched_value)\n"
   ]
  },
  {
   "cell_type": "code",
   "execution_count": 7,
   "id": "f3fcc654-bac7-4304-b661-47bf1e5f858e",
   "metadata": {},
   "outputs": [
    {
     "name": "stdout",
     "output_type": "stream",
     "text": [
      "(array([3, 4, 5, 7, 8], dtype=int64),)\n"
     ]
    }
   ],
   "source": [
    "searched_values = np.where(arr%2== 0)#gives indexs of all number divisible by 2\n",
    "print(searched_values)"
   ]
  },
  {
   "cell_type": "code",
   "execution_count": 8,
   "id": "c90598b5-aa68-4122-bdd1-68351237524b",
   "metadata": {},
   "outputs": [
    {
     "name": "stdout",
     "output_type": "stream",
     "text": [
      "4\n"
     ]
    }
   ],
   "source": [
    "#SEARCH SORTED,  array needs to be sorted , \n",
    "#gives the index of where the element is placed in the array.\n",
    "arr = np.array([12 ,14, 17, 21, 33, 46, 55, 66, 88])\n",
    "search_sorted = np.searchsorted(arr,33)\n",
    "print(search_sorted)"
   ]
  },
  {
   "cell_type": "code",
   "execution_count": 9,
   "id": "3437a3db-280e-4297-98b3-c0171318bd97",
   "metadata": {},
   "outputs": [
    {
     "name": "stdout",
     "output_type": "stream",
     "text": [
      "[17 21 33 46 55 66 88]\n"
     ]
    }
   ],
   "source": [
    "arr = np.array([12 ,14, 17, 21, 33, 46, 55, 66, 88])\n",
    "filtered_array = arr[arr>=17] #filter elements  greater than 17\n",
    "print(filtered_array)"
   ]
  },
  {
   "cell_type": "code",
   "execution_count": 10,
   "id": "fac0df23-9e47-4ee5-8247-14f185242bc5",
   "metadata": {},
   "outputs": [
    {
     "name": "stdout",
     "output_type": "stream",
     "text": [
      "(array([3, 4, 5, 6, 7, 8], dtype=int64),)\n",
      "[21 33 46 55 66 88]\n"
     ]
    }
   ],
   "source": [
    "#if i want to fidn index\n",
    "arr = np.array([12, 14, 17, 21, 33, 46, 55, 66, 88])\n",
    "indices = np.where(arr> 17)\n",
    "print(indices)\n",
    "filtered_array = arr[indices]\n",
    "print(filtered_array)"
   ]
  },
  {
   "cell_type": "code",
   "execution_count": 11,
   "id": "332bb593-4f1f-47cd-beb0-8a0e87f5e2b5",
   "metadata": {},
   "outputs": [
    {
     "name": "stdout",
     "output_type": "stream",
     "text": [
      "[21 33 46 55 66]\n"
     ]
    }
   ],
   "source": [
    "#\n",
    "arr = np.array([12, 14, 17, 21, 33, 46, 55, 66, 88])\n",
    "filtered_array=  arr[(arr>=20) & (arr<=80)]\n",
    "print(filtered_array)"
   ]
  },
  {
   "cell_type": "code",
   "execution_count": null,
   "id": "46e43f2a-46a9-4d87-8475-e6ad1978dfbc",
   "metadata": {},
   "outputs": [],
   "source": []
  }
 ],
 "metadata": {
  "kernelspec": {
   "display_name": "Python 3 (ipykernel)",
   "language": "python",
   "name": "python3"
  },
  "language_info": {
   "codemirror_mode": {
    "name": "ipython",
    "version": 3
   },
   "file_extension": ".py",
   "mimetype": "text/x-python",
   "name": "python",
   "nbconvert_exporter": "python",
   "pygments_lexer": "ipython3",
   "version": "3.12.4"
  }
 },
 "nbformat": 4,
 "nbformat_minor": 5
}
