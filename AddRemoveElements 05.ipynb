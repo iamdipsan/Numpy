{
 "cells": [
  {
   "cell_type": "code",
   "execution_count": 1,
   "id": "ca68c377-fabb-4ed1-9053-8f00af28bbf2",
   "metadata": {},
   "outputs": [],
   "source": [
    "import numpy as np"
   ]
  },
  {
   "cell_type": "code",
   "execution_count": 2,
   "id": "535e39cd-f0ea-4728-96f2-6a5b22aacbc2",
   "metadata": {},
   "outputs": [
    {
     "name": "stdout",
     "output_type": "stream",
     "text": [
      "[1 2 3 4 5]\n"
     ]
    }
   ],
   "source": [
    "a = np.array([1,2,3,4,5])\n",
    "print(a)"
   ]
  },
  {
   "cell_type": "code",
   "execution_count": 3,
   "id": "4cc18539-cab7-4068-85e4-e362091e1e8c",
   "metadata": {},
   "outputs": [
    {
     "name": "stdout",
     "output_type": "stream",
     "text": [
      "[1 2 3 4 5 6]\n"
     ]
    }
   ],
   "source": [
    "print(np.append(a,6))"
   ]
  },
  {
   "cell_type": "code",
   "execution_count": 4,
   "id": "63d12752-06ee-4336-9df1-79d5108c5913",
   "metadata": {},
   "outputs": [],
   "source": [
    "b = np.array([[1,2,3],[4,5,6]])"
   ]
  },
  {
   "cell_type": "code",
   "execution_count": 5,
   "id": "63c189fb-6319-4149-9d8a-2449522e775f",
   "metadata": {},
   "outputs": [
    {
     "name": "stdout",
     "output_type": "stream",
     "text": [
      "[1 2 3 4 5 6 7]\n"
     ]
    }
   ],
   "source": [
    "print(np.append(b,7))  #in 2d too, it will add after converting the data in 1d/"
   ]
  },
  {
   "cell_type": "code",
   "execution_count": 6,
   "id": "1e90ea88-be8b-4eb4-be97-8ac3c2267d02",
   "metadata": {},
   "outputs": [
    {
     "name": "stdout",
     "output_type": "stream",
     "text": [
      "[1 2 3 4 5 6 8 9]\n"
     ]
    }
   ],
   "source": [
    "print(np.append(b,[8,9]))"
   ]
  },
  {
   "cell_type": "code",
   "execution_count": 7,
   "id": "2e568fbd-f828-4afc-878c-bdd5f35ac4a8",
   "metadata": {},
   "outputs": [],
   "source": [
    "#inserting instead of appending\n",
    "c= np.array([11,22,33,44,55])# structure-> arrayname,index,value"
   ]
  },
  {
   "cell_type": "code",
   "execution_count": 8,
   "id": "777298a7-db9d-4e8f-8565-35436f0ca372",
   "metadata": {},
   "outputs": [
    {
     "data": {
      "text/plain": [
       "array([11, 50, 22, 33, 44, 55])"
      ]
     },
     "execution_count": 8,
     "metadata": {},
     "output_type": "execute_result"
    }
   ],
   "source": [
    "np.insert(c,1,50)   #inserts value'50' in index 1 of array 'c'\n",
    "# structure-> arrayname,index,value"
   ]
  },
  {
   "cell_type": "code",
   "execution_count": 9,
   "id": "b242c6fb-36ef-401b-94a7-ad37620c698a",
   "metadata": {},
   "outputs": [
    {
     "data": {
      "text/plain": [
       "array([11, 50, 60, 22, 33, 44, 55])"
      ]
     },
     "execution_count": 9,
     "metadata": {},
     "output_type": "execute_result"
    }
   ],
   "source": [
    "np.insert(c,1,[50,60])"
   ]
  },
  {
   "cell_type": "code",
   "execution_count": 10,
   "id": "226f4c0d-8fcb-4778-83f3-6511afd9d5c2",
   "metadata": {},
   "outputs": [
    {
     "data": {
      "text/plain": [
       "array([[40, 50, 60],\n",
       "       [ 1,  2,  3],\n",
       "       [ 4,  5,  6]])"
      ]
     },
     "execution_count": 10,
     "metadata": {},
     "output_type": "execute_result"
    }
   ],
   "source": [
    "#inserting elements in 2D array\n",
    "arr = np.array([[1, 2, 3],[4, 5, 6]])\n",
    "new_row = [40,50,60]\n",
    "np.insert(arr,0,new_row,0) #structure =>np.insert(arr, placeto insert, value to insert, axis=None)\n"
   ]
  },
  {
   "cell_type": "code",
   "execution_count": 11,
   "id": "9d3c2e7e-2e65-4c6c-883a-4deeed0f260f",
   "metadata": {},
   "outputs": [
    {
     "data": {
      "text/plain": [
       "array([[ 1,  2, 40,  3],\n",
       "       [ 4,  5, 50,  6]])"
      ]
     },
     "execution_count": 11,
     "metadata": {},
     "output_type": "execute_result"
    }
   ],
   "source": [
    "arr = np.array([[1, 2, 3],[4, 5, 6]])\n",
    "new_column = [40,50]\n",
    "np.insert(arr,2,new_column,1)"
   ]
  },
  {
   "cell_type": "code",
   "execution_count": 12,
   "id": "e14dcf6c-28c3-45ab-8e43-6e49be285083",
   "metadata": {},
   "outputs": [
    {
     "name": "stdout",
     "output_type": "stream",
     "text": [
      "[1 3 4 5]\n"
     ]
    }
   ],
   "source": [
    "arr = np.array([1,2,3,4,5])\n",
    "print(np.delete(arr,1)) #deletes and prints element at 1 index, ie  2"
   ]
  },
  {
   "cell_type": "code",
   "execution_count": 13,
   "id": "fe9b4d8f-6fe1-4390-90c2-2e3968862e46",
   "metadata": {},
   "outputs": [],
   "source": [
    "arr= np.array([[1,2,3],[4,5,6]])\n"
   ]
  },
  {
   "cell_type": "code",
   "execution_count": 14,
   "id": "5191fadf-411f-44e4-8e29-514cbadabb2c",
   "metadata": {},
   "outputs": [
    {
     "name": "stdout",
     "output_type": "stream",
     "text": [
      "[[4 5 6]]\n"
     ]
    }
   ],
   "source": [
    "print(np.delete(arr,0,0))"
   ]
  },
  {
   "cell_type": "code",
   "execution_count": 15,
   "id": "1aa6a4aa-39c0-404a-a1d5-2463c44e3718",
   "metadata": {},
   "outputs": [
    {
     "name": "stdout",
     "output_type": "stream",
     "text": [
      "[[1 2 3]]\n"
     ]
    }
   ],
   "source": [
    "print(np.delete(arr,1,0))"
   ]
  },
  {
   "cell_type": "code",
   "execution_count": 16,
   "id": "1df81ea1-3cf8-47b9-aa3c-7976de04c61c",
   "metadata": {},
   "outputs": [
    {
     "name": "stdout",
     "output_type": "stream",
     "text": [
      "[[4 5 6]]\n"
     ]
    }
   ],
   "source": [
    "arr= np.array([[1,2,3],[4,5,6],[7,8,9]])\n",
    "result = np.delete(arr,[0,2],axis=0)\n",
    "print(result)"
   ]
  },
  {
   "cell_type": "code",
   "execution_count": null,
   "id": "acd26f0c-ebcc-408f-a227-c6b060bd6de5",
   "metadata": {},
   "outputs": [],
   "source": []
  }
 ],
 "metadata": {
  "kernelspec": {
   "display_name": "Python 3 (ipykernel)",
   "language": "python",
   "name": "python3"
  },
  "language_info": {
   "codemirror_mode": {
    "name": "ipython",
    "version": 3
   },
   "file_extension": ".py",
   "mimetype": "text/x-python",
   "name": "python",
   "nbconvert_exporter": "python",
   "pygments_lexer": "ipython3",
   "version": "3.12.4"
  }
 },
 "nbformat": 4,
 "nbformat_minor": 5
}
