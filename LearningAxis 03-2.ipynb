{
 "cells": [
  {
   "cell_type": "code",
   "execution_count": 1,
   "id": "c7aae171-cf98-4047-b2ef-493e303b9368",
   "metadata": {},
   "outputs": [],
   "source": [
    "import numpy as np"
   ]
  },
  {
   "cell_type": "code",
   "execution_count": 2,
   "id": "49a72f03-ef16-4989-a0a6-3d456ff6cb73",
   "metadata": {},
   "outputs": [
    {
     "name": "stdout",
     "output_type": "stream",
     "text": [
      "[[1 2 3]\n",
      " [4 5 6]\n",
      " [7 8 9]]\n"
     ]
    }
   ],
   "source": [
    "arr = np.array([[1,2,3],\n",
    "       [4,5,6],\n",
    "       [7,8,9]]\n",
    ")\n",
    "print(arr)"
   ]
  },
  {
   "cell_type": "code",
   "execution_count": 3,
   "id": "36b6a2fa-1226-486f-805a-6beac14646f1",
   "metadata": {},
   "outputs": [
    {
     "name": "stdout",
     "output_type": "stream",
     "text": [
      "[12 15 18]\n"
     ]
    }
   ],
   "source": [
    "sum_axis0= np.sum(arr,axis=0) #ie,  1+4+7 =12, 2+5+8=15, 3+6+9=18 , =>12,15,18\n",
    "print(sum_axis0)\n",
    "#axis 0, vertical add rows, downwards"
   ]
  },
  {
   "cell_type": "code",
   "execution_count": 4,
   "id": "3c68cbbb-60eb-4105-9d3f-d39630f8f67a",
   "metadata": {},
   "outputs": [
    {
     "name": "stdout",
     "output_type": "stream",
     "text": [
      "[ 6 15 24]\n"
     ]
    }
   ],
   "source": [
    "sum_axis1 = np.sum(arr,axis =1) #ie, 1+2+3 =6,  4+5+6 = 15, 7+8+9 = 24, => 6,15,24\n",
    "print(sum_axis1)"
   ]
  },
  {
   "cell_type": "code",
   "execution_count": 7,
   "id": "dc8d6e96-b6a6-4343-b869-516c0fdbac80",
   "metadata": {},
   "outputs": [
    {
     "name": "stdout",
     "output_type": "stream",
     "text": [
      "[[10 11 12]\n",
      " [15 16 17]]\n"
     ]
    }
   ],
   "source": [
    "#adding a new row or column using axis\n",
    "current_array = np.array([[10,11,12]])\n",
    "adding_array = [15,16,17]\n",
    "result_array = np.vstack([current_array,adding_array])\n",
    "print(result_array)"
   ]
  },
  {
   "cell_type": "code",
   "execution_count": 20,
   "id": "c7ac5337-73d1-4a3f-aea7-5e614364eb95",
   "metadata": {},
   "outputs": [
    {
     "name": "stdout",
     "output_type": "stream",
     "text": [
      "[[10 11 12]\n",
      " [14 55 26]\n",
      " [12 41 22]\n",
      " [15 16 17]]\n"
     ]
    }
   ],
   "source": [
    "#adding new row, using vstack.\n",
    "current_array = np.array([[10,11,12] ,[14,55,26],[12,41,22]])\n",
    "adding_array = [15,16,17]\n",
    "result_array= np.vstack([current_array,adding_array])\n",
    "print(result_array)"
   ]
  },
  {
   "cell_type": "code",
   "execution_count": 24,
   "id": "04de1357-607a-4cd3-989c-51575fcaf84e",
   "metadata": {},
   "outputs": [
    {
     "name": "stdout",
     "output_type": "stream",
     "text": [
      "[[10 11 12]\n",
      " [15 16 17]\n",
      " [14 55 26]\n",
      " [12 41 22]]\n"
     ]
    }
   ],
   "source": [
    "#adding new row, using vstack in specific positions.\n",
    "current_array = np.array([[10,11,12] ,[14,55,26],[12,41,22]])\n",
    "adding_array = [15,16,17]\n",
    "result_array= np.vstack([current_array[:1],adding_array,current_array[1:]])\n",
    "print(result_array)"
   ]
  },
  {
   "cell_type": "code",
   "execution_count": 27,
   "id": "a4c53f1a-5029-494f-91bf-a4acce76027f",
   "metadata": {},
   "outputs": [
    {
     "name": "stdout",
     "output_type": "stream",
     "text": [
      "[[10 11 12]\n",
      " [14 55 26]\n",
      " [12 41 22]\n",
      " [33 44 75]]\n"
     ]
    }
   ],
   "source": [
    "#In-Place Modification , without creating a new array\n",
    "current_array = np.array([[10, 11, 12], [14, 55, 26], [12, 41, 22]])\n",
    "adding_array=  [33,44,75]\n",
    "current_array= np.append(current_array,[adding_array],axis=0)\n",
    "print(current_array)"
   ]
  },
  {
   "cell_type": "code",
   "execution_count": 28,
   "id": "551bf509-934a-4709-9a34-84817b5b0d6f",
   "metadata": {},
   "outputs": [
    {
     "name": "stdout",
     "output_type": "stream",
     "text": [
      "[[10 11 12]\n",
      " [33 44 75]\n",
      " [14 55 26]\n",
      " [12 41 22]]\n"
     ]
    }
   ],
   "source": [
    "#In-Place Modification at specific postion , we use insert, without creating a new array\n",
    "current_array = np.array([[10, 11, 12], [14, 55, 26], [12, 41, 22]])\n",
    "adding_array=  [33,44,75]\n",
    "current_array= np.insert(current_array,1,adding_array,axis=0)\n",
    "print(current_array)"
   ]
  },
  {
   "cell_type": "code",
   "execution_count": null,
   "id": "66504932-0927-4c60-b6f2-6028278fc540",
   "metadata": {},
   "outputs": [],
   "source": []
  }
 ],
 "metadata": {
  "kernelspec": {
   "display_name": "Python 3 (ipykernel)",
   "language": "python",
   "name": "python3"
  },
  "language_info": {
   "codemirror_mode": {
    "name": "ipython",
    "version": 3
   },
   "file_extension": ".py",
   "mimetype": "text/x-python",
   "name": "python",
   "nbconvert_exporter": "python",
   "pygments_lexer": "ipython3",
   "version": "3.12.4"
  }
 },
 "nbformat": 4,
 "nbformat_minor": 5
}
