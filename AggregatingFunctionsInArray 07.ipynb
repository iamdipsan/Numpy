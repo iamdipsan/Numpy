{
 "cells": [
  {
   "cell_type": "code",
   "execution_count": 1,
   "id": "aaadd3a8-f76d-43c8-ad8d-9e9eca488c92",
   "metadata": {},
   "outputs": [],
   "source": [
    "import numpy as np"
   ]
  },
  {
   "cell_type": "code",
   "execution_count": 2,
   "id": "e292208f-46d8-410e-ab97-c89dba6a0938",
   "metadata": {},
   "outputs": [
    {
     "name": "stdout",
     "output_type": "stream",
     "text": [
      "[10 20 30 40 50]\n"
     ]
    }
   ],
   "source": [
    "a= np.array([10,20,30,40,50])\n",
    "print(a)"
   ]
  },
  {
   "cell_type": "code",
   "execution_count": 3,
   "id": "dc49c8b4-76de-49ca-bd9c-011fcc0fc448",
   "metadata": {},
   "outputs": [
    {
     "name": "stdout",
     "output_type": "stream",
     "text": [
      "150\n"
     ]
    }
   ],
   "source": [
    "print(np.sum(a))"
   ]
  },
  {
   "cell_type": "code",
   "execution_count": 4,
   "id": "8a33ea51-1130-4103-a005-8eb3d974dadd",
   "metadata": {},
   "outputs": [
    {
     "name": "stdout",
     "output_type": "stream",
     "text": [
      "10\n"
     ]
    }
   ],
   "source": [
    "print(np.min(a))"
   ]
  },
  {
   "cell_type": "code",
   "execution_count": 5,
   "id": "dd869e21-35ef-43a8-bde2-50725851cd05",
   "metadata": {},
   "outputs": [
    {
     "name": "stdout",
     "output_type": "stream",
     "text": [
      "50\n"
     ]
    }
   ],
   "source": [
    "print(np.max(a))"
   ]
  },
  {
   "cell_type": "code",
   "execution_count": 6,
   "id": "d135f835-0bc0-4e83-933e-91093f3f180b",
   "metadata": {},
   "outputs": [
    {
     "name": "stdout",
     "output_type": "stream",
     "text": [
      "5\n"
     ]
    }
   ],
   "source": [
    "print(np.size(a))"
   ]
  },
  {
   "cell_type": "code",
   "execution_count": 8,
   "id": "4722a534-854a-4a99-ad34-ab4aec76802b",
   "metadata": {},
   "outputs": [
    {
     "name": "stdout",
     "output_type": "stream",
     "text": [
      "30.0\n"
     ]
    }
   ],
   "source": [
    "print(np.mean(a))"
   ]
  },
  {
   "cell_type": "code",
   "execution_count": 11,
   "id": "545e1608-7fdd-4963-94e3-0135ae650dd7",
   "metadata": {},
   "outputs": [
    {
     "name": "stdout",
     "output_type": "stream",
     "text": [
      "[ 10  30  60 100 150]\n"
     ]
    }
   ],
   "source": [
    "print(np.cumsum(a)) #cumulative sum"
   ]
  },
  {
   "cell_type": "code",
   "execution_count": 12,
   "id": "be6ef65c-43f9-4a33-9231-b48bfc68f3a9",
   "metadata": {},
   "outputs": [
    {
     "name": "stdout",
     "output_type": "stream",
     "text": [
      "[      10      200     6000   240000 12000000]\n"
     ]
    }
   ],
   "source": [
    "print(np.cumprod(a)) #cumulative product"
   ]
  },
  {
   "cell_type": "code",
   "execution_count": 13,
   "id": "0c4bbe22-daa1-443a-ae07-b56fd1b32284",
   "metadata": {},
   "outputs": [
    {
     "name": "stdout",
     "output_type": "stream",
     "text": [
      "[10 20 30 40 50] \n",
      " [ 5 15 25 35 45]\n"
     ]
    }
   ],
   "source": [
    "a= [10, 20, 30, 40, 50]\n",
    "b=[5, 15, 25, 35, 45]\n",
    "price = np.array(a)\n",
    "quantity =np.array(b)\n",
    "print(price,\"\\n\", quantity)"
   ]
  },
  {
   "cell_type": "code",
   "execution_count": 32,
   "id": "05a7dbea-3906-4803-addd-c44220994181",
   "metadata": {},
   "outputs": [
    {
     "name": "stdout",
     "output_type": "stream",
     "text": [
      "[[  10   20   30   40   50]\n",
      " [  50  300  750 1400 2250]]\n"
     ]
    }
   ],
   "source": [
    "totalofpriceandproduct = np.cumprod([price,quantity],axis=0)\n",
    "print(totalofpriceandproduct) \n",
    "#this gives the total for a price for quantity"
   ]
  },
  {
   "cell_type": "code",
   "execution_count": 41,
   "id": "4cf53403-248f-4b80-9f9a-900ea51b2a28",
   "metadata": {},
   "outputs": [
    {
     "name": "stdout",
     "output_type": "stream",
     "text": [
      "4750\n"
     ]
    }
   ],
   "source": [
    "c =totalofpriceandproduct\n",
    "print(c[1].sum())\n",
    "\n"
   ]
  },
  {
   "cell_type": "code",
   "execution_count": null,
   "id": "b22ab3b2-141a-4845-8786-b16290b0cb53",
   "metadata": {},
   "outputs": [],
   "source": []
  }
 ],
 "metadata": {
  "kernelspec": {
   "display_name": "Python 3 (ipykernel)",
   "language": "python",
   "name": "python3"
  },
  "language_info": {
   "codemirror_mode": {
    "name": "ipython",
    "version": 3
   },
   "file_extension": ".py",
   "mimetype": "text/x-python",
   "name": "python",
   "nbconvert_exporter": "python",
   "pygments_lexer": "ipython3",
   "version": "3.12.4"
  }
 },
 "nbformat": 4,
 "nbformat_minor": 5
}
