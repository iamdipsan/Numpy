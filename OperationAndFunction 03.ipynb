{
 "cells": [
  {
   "cell_type": "code",
   "execution_count": 1,
   "id": "6adbc615-cf70-4df9-88a4-67a7888d0f3d",
   "metadata": {},
   "outputs": [],
   "source": [
    "import numpy as np"
   ]
  },
  {
   "cell_type": "code",
   "execution_count": 2,
   "id": "099c6955-b9d2-4326-b028-844b7c4dc692",
   "metadata": {},
   "outputs": [],
   "source": [
    "arr1 = np.array([12,23,24,55,67])\n",
    "arr2 =np.array([14,15,16,17,77])"
   ]
  },
  {
   "cell_type": "code",
   "execution_count": 3,
   "id": "24c4ba11-e817-404f-896a-d6141bc88590",
   "metadata": {},
   "outputs": [
    {
     "name": "stdout",
     "output_type": "stream",
     "text": [
      "[ 26  38  40  72 144]\n"
     ]
    }
   ],
   "source": [
    "print(arr1+arr2)"
   ]
  },
  {
   "cell_type": "code",
   "execution_count": 4,
   "id": "8e3514c1-06fc-443e-b3f7-fce472341078",
   "metadata": {},
   "outputs": [
    {
     "name": "stdout",
     "output_type": "stream",
     "text": [
      "[ 26  38  40  72 144]\n"
     ]
    }
   ],
   "source": [
    "print(np.add(arr1,arr2))"
   ]
  },
  {
   "cell_type": "code",
   "execution_count": 5,
   "id": "8d057511-24ee-4238-868e-51daa37c3c8e",
   "metadata": {},
   "outputs": [],
   "source": [
    "arr3 = np.array([[22,25],[26,17]])\n",
    "arr4 = np.array([[24,26],[56,67]])"
   ]
  },
  {
   "cell_type": "code",
   "execution_count": 6,
   "id": "09a2f2d5-716c-4e52-b259-dcf50dc86f8c",
   "metadata": {},
   "outputs": [
    {
     "name": "stdout",
     "output_type": "stream",
     "text": [
      "[[46 51]\n",
      " [82 84]]\n"
     ]
    }
   ],
   "source": [
    "print(arr3+arr4)"
   ]
  },
  {
   "cell_type": "code",
   "execution_count": 7,
   "id": "54ff8053-9fbb-407a-aba7-8c513b604489",
   "metadata": {},
   "outputs": [],
   "source": [
    "arr5 = np.array([12,23,24,55,67])\n",
    "arr6 =np.array([14,15,16,17,77])"
   ]
  },
  {
   "cell_type": "code",
   "execution_count": 8,
   "id": "c49c2a0c-b4bd-4553-93db-dbcdba3be950",
   "metadata": {},
   "outputs": [
    {
     "name": "stdout",
     "output_type": "stream",
     "text": [
      "[ -2   8   8  38 -10]\n"
     ]
    }
   ],
   "source": [
    "print(arr1-arr2)"
   ]
  },
  {
   "cell_type": "code",
   "execution_count": 9,
   "id": "059f161e-9cab-42ef-82d7-af1c2cff444c",
   "metadata": {},
   "outputs": [
    {
     "name": "stdout",
     "output_type": "stream",
     "text": [
      "[ -2   8   8  38 -10]\n"
     ]
    }
   ],
   "source": [
    "print(np.subtract(arr5,arr6))"
   ]
  },
  {
   "cell_type": "code",
   "execution_count": 10,
   "id": "f36570f6-9e7b-4a0e-9fb6-9358cbba2741",
   "metadata": {},
   "outputs": [],
   "source": [
    "arr7 = np.array([[22,25],[26,17]])\n",
    "arr8 = np.array([[24,26],[56,67]])"
   ]
  },
  {
   "cell_type": "code",
   "execution_count": 11,
   "id": "143a5f3c-573a-419b-a04d-f6c11d285e77",
   "metadata": {},
   "outputs": [
    {
     "name": "stdout",
     "output_type": "stream",
     "text": [
      "[[ 528  650]\n",
      " [1456 1139]]\n"
     ]
    }
   ],
   "source": [
    "print(arr7*arr8)"
   ]
  },
  {
   "cell_type": "code",
   "execution_count": 12,
   "id": "c36d2a97-7566-45db-9686-972781776000",
   "metadata": {},
   "outputs": [
    {
     "name": "stdout",
     "output_type": "stream",
     "text": [
      "[[ 528  650]\n",
      " [1456 1139]]\n"
     ]
    }
   ],
   "source": [
    "print(np.multiply(arr7,arr8))"
   ]
  },
  {
   "cell_type": "code",
   "execution_count": 13,
   "id": "f4eedd63-a9a8-4691-bccf-d92cba8e27c3",
   "metadata": {},
   "outputs": [
    {
     "name": "stdout",
     "output_type": "stream",
     "text": [
      "[[0.91666667 0.96153846]\n",
      " [0.46428571 0.25373134]]\n"
     ]
    }
   ],
   "source": [
    "print(arr7/arr8)"
   ]
  },
  {
   "cell_type": "code",
   "execution_count": 14,
   "id": "3c2c6e8b-fe31-4975-b34c-fc3d1ab223b9",
   "metadata": {},
   "outputs": [
    {
     "name": "stdout",
     "output_type": "stream",
     "text": [
      "[[0.91666667 0.96153846]\n",
      " [0.46428571 0.25373134]]\n"
     ]
    }
   ],
   "source": [
    "print(np.divide(arr7,arr8))"
   ]
  },
  {
   "cell_type": "code",
   "execution_count": 15,
   "id": "f7a2def8-de0d-4294-aa80-470a10ca18b0",
   "metadata": {},
   "outputs": [
    {
     "name": "stdout",
     "output_type": "stream",
     "text": [
      "[ 144  529  576 3025 4489]\n"
     ]
    }
   ],
   "source": [
    "arr9 = np.array([22,25,26,17])\n",
    "arr2 = np.array([2])\n",
    "print(np.power(arr1,arr2))"
   ]
  },
  {
   "cell_type": "code",
   "execution_count": 16,
   "id": "9d3cc753-6799-4171-99eb-38b9b58324a7",
   "metadata": {},
   "outputs": [
    {
     "name": "stdout",
     "output_type": "stream",
     "text": [
      "[12. 23. 24. 55. 67.]\n"
     ]
    }
   ],
   "source": [
    "arr10 =  np.array([ 144 , 529,  576 ,3025 ,4489])\n",
    "print(np.sqrt(arr10))"
   ]
  }
 ],
 "metadata": {
  "kernelspec": {
   "display_name": "Python 3 (ipykernel)",
   "language": "python",
   "name": "python3"
  },
  "language_info": {
   "codemirror_mode": {
    "name": "ipython",
    "version": 3
   },
   "file_extension": ".py",
   "mimetype": "text/x-python",
   "name": "python",
   "nbconvert_exporter": "python",
   "pygments_lexer": "ipython3",
   "version": "3.12.4"
  }
 },
 "nbformat": 4,
 "nbformat_minor": 5
}
