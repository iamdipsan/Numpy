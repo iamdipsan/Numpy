{
 "cells": [
  {
   "cell_type": "code",
   "execution_count": 1,
   "id": "fe6ab6a0-b4e1-4ffb-982b-f2834250519a",
   "metadata": {},
   "outputs": [],
   "source": [
    "import numpy as np"
   ]
  },
  {
   "cell_type": "code",
   "execution_count": 2,
   "id": "e0485015-7157-4b3f-9184-5feb336f2ef2",
   "metadata": {},
   "outputs": [],
   "source": [
    "myarray = np.array([1,2,3,4,5]) #creating a array in numpy"
   ]
  },
  {
   "cell_type": "code",
   "execution_count": 3,
   "id": "c7c83ea7-f799-45dc-9e58-37fc4c3b0d8a",
   "metadata": {},
   "outputs": [
    {
     "data": {
      "text/plain": [
       "array([1, 2, 3, 4, 5])"
      ]
     },
     "execution_count": 3,
     "metadata": {},
     "output_type": "execute_result"
    }
   ],
   "source": [
    "myarray"
   ]
  },
  {
   "cell_type": "code",
   "execution_count": 4,
   "id": "ea797791-a11d-48dd-a201-74645f098397",
   "metadata": {},
   "outputs": [],
   "source": [
    "myarray = np.array([1,2,3,4,], np.int8)  #integer will be of 8 bit."
   ]
  },
  {
   "cell_type": "code",
   "execution_count": 5,
   "id": "6c434c93-db1f-4869-b70a-aa418cb42ebd",
   "metadata": {},
   "outputs": [
    {
     "data": {
      "text/plain": [
       "array([1, 2, 3, 4], dtype=int8)"
      ]
     },
     "execution_count": 5,
     "metadata": {},
     "output_type": "execute_result"
    }
   ],
   "source": [
    "myarray"
   ]
  },
  {
   "cell_type": "code",
   "execution_count": 6,
   "id": "ce615aa6-4b3b-472a-a0fd-fd28bf32a68d",
   "metadata": {},
   "outputs": [
    {
     "data": {
      "text/plain": [
       "1"
      ]
     },
     "execution_count": 6,
     "metadata": {},
     "output_type": "execute_result"
    }
   ],
   "source": [
    "myarray[0]#accesing first element in list"
   ]
  },
  {
   "cell_type": "code",
   "execution_count": 7,
   "id": "33825229-07bd-402a-bf20-e0eb1e56adc2",
   "metadata": {},
   "outputs": [
    {
     "data": {
      "text/plain": [
       "2"
      ]
     },
     "execution_count": 7,
     "metadata": {},
     "output_type": "execute_result"
    }
   ],
   "source": [
    "myarray[1]#accesing second element in list"
   ]
  },
  {
   "cell_type": "code",
   "execution_count": 8,
   "id": "04b568de-8ed3-4d1b-a916-ff7b08e90b66",
   "metadata": {},
   "outputs": [
    {
     "data": {
      "text/plain": [
       "4"
      ]
     },
     "execution_count": 8,
     "metadata": {},
     "output_type": "execute_result"
    }
   ],
   "source": [
    "myarray[3] #accessing 4th element in list"
   ]
  },
  {
   "cell_type": "code",
   "execution_count": 9,
   "id": "80e584a7-6a94-4797-b102-a4999254689f",
   "metadata": {},
   "outputs": [],
   "source": [
    "myarray = np.array([[1,2,3,4,5]]) #In    2d aray,here 1 row, 5column"
   ]
  },
  {
   "cell_type": "code",
   "execution_count": 10,
   "id": "c6728f29-c6e0-4ccb-989d-5101eb7fe1c1",
   "metadata": {},
   "outputs": [
    {
     "data": {
      "text/plain": [
       "array([1, 2, 3, 4, 5])"
      ]
     },
     "execution_count": 10,
     "metadata": {},
     "output_type": "execute_result"
    }
   ],
   "source": [
    "myarray[0]"
   ]
  },
  {
   "cell_type": "code",
   "execution_count": 11,
   "id": "49fec8dc-0943-466d-aa1e-77d6af211436",
   "metadata": {},
   "outputs": [
    {
     "data": {
      "text/plain": [
       "2"
      ]
     },
     "execution_count": 11,
     "metadata": {},
     "output_type": "execute_result"
    }
   ],
   "source": [
    "myarray[0,1]\n",
    "#0: The row index, which refers to the first (and only) row.\n",
    "#1: The column index, which refers to the second column (indexing starts at 0)."
   ]
  },
  {
   "cell_type": "code",
   "execution_count": 12,
   "id": "f8e5dc59-e78c-46c8-9488-295674e7d581",
   "metadata": {},
   "outputs": [
    {
     "data": {
      "text/plain": [
       "1"
      ]
     },
     "execution_count": 12,
     "metadata": {},
     "output_type": "execute_result"
    }
   ],
   "source": [
    "myarray[0,0]"
   ]
  },
  {
   "cell_type": "code",
   "execution_count": 13,
   "id": "e3350a0a-a7a3-45ff-a7f1-346c64b55b9c",
   "metadata": {},
   "outputs": [
    {
     "data": {
      "text/plain": [
       "4"
      ]
     },
     "execution_count": 13,
     "metadata": {},
     "output_type": "execute_result"
    }
   ],
   "source": [
    "myarray[0,3]"
   ]
  },
  {
   "cell_type": "code",
   "execution_count": 14,
   "id": "4bc1aae2-3680-4e9e-bcaa-2c338056da1b",
   "metadata": {},
   "outputs": [
    {
     "data": {
      "text/plain": [
       "5"
      ]
     },
     "execution_count": 14,
     "metadata": {},
     "output_type": "execute_result"
    }
   ],
   "source": [
    "myarray[0,4]"
   ]
  },
  {
   "cell_type": "code",
   "execution_count": 15,
   "id": "a27770ea-a256-4387-ac88-503c450b513e",
   "metadata": {},
   "outputs": [
    {
     "data": {
      "text/plain": [
       "(1, 5)"
      ]
     },
     "execution_count": 15,
     "metadata": {},
     "output_type": "execute_result"
    }
   ],
   "source": [
    "myarray.shape #gives the shape, 1 row, and 5 columns"
   ]
  },
  {
   "cell_type": "code",
   "execution_count": 16,
   "id": "6dcbcb65-b3e4-476f-a3bd-b511b8f856aa",
   "metadata": {},
   "outputs": [
    {
     "data": {
      "text/plain": [
       "dtype('int32')"
      ]
     },
     "execution_count": 16,
     "metadata": {},
     "output_type": "execute_result"
    }
   ],
   "source": [
    "myarray.dtype  #gives the type of integer"
   ]
  },
  {
   "cell_type": "code",
   "execution_count": 20,
   "id": "d8a06451-3e0b-408d-8d09-7be11643372e",
   "metadata": {},
   "outputs": [
    {
     "data": {
      "text/plain": [
       "2"
      ]
     },
     "execution_count": 20,
     "metadata": {},
     "output_type": "execute_result"
    }
   ],
   "source": [
    "myarray[0,1]  "
   ]
  },
  {
   "cell_type": "code",
   "execution_count": 23,
   "id": "f15958f3-37f9-48bc-a027-4aaa2b985a49",
   "metadata": {},
   "outputs": [],
   "source": [
    "myarray[0,1] = 33 #changing element in 2d array"
   ]
  },
  {
   "cell_type": "code",
   "execution_count": 22,
   "id": "212947bb-0af4-4530-ac76-f5ccc35ba619",
   "metadata": {},
   "outputs": [
    {
     "data": {
      "text/plain": [
       "array([[ 1, 33,  3,  4,  5]])"
      ]
     },
     "execution_count": 22,
     "metadata": {},
     "output_type": "execute_result"
    }
   ],
   "source": [
    "myarray"
   ]
  },
  {
   "cell_type": "code",
   "execution_count": null,
   "id": "ef34514a-9c2f-4d37-ac0a-8ad389c10f2d",
   "metadata": {},
   "outputs": [],
   "source": []
  }
 ],
 "metadata": {
  "kernelspec": {
   "display_name": "Python 3 (ipykernel)",
   "language": "python",
   "name": "python3"
  },
  "language_info": {
   "codemirror_mode": {
    "name": "ipython",
    "version": 3
   },
   "file_extension": ".py",
   "mimetype": "text/x-python",
   "name": "python",
   "nbconvert_exporter": "python",
   "pygments_lexer": "ipython3",
   "version": "3.12.4"
  }
 },
 "nbformat": 4,
 "nbformat_minor": 5
}
