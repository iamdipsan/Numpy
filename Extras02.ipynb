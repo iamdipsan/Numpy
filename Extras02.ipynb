{
 "cells": [
  {
   "cell_type": "code",
   "execution_count": 1,
   "id": "3088a631-861f-4a3c-8b06-21ed1e934622",
   "metadata": {},
   "outputs": [],
   "source": [
    "import numpy as np"
   ]
  },
  {
   "cell_type": "code",
   "execution_count": 3,
   "id": "7d4ef908-8d66-49f0-99dd-b7848cb81560",
   "metadata": {},
   "outputs": [],
   "source": [
    "#creating arrays in numpy "
   ]
  },
  {
   "cell_type": "markdown",
   "id": "5b27f4d6-c1c4-44e3-b31c-93b515712db9",
   "metadata": {},
   "source": [
    "#Array creation : conversion from otherpython structures, list, tuples\n"
   ]
  },
  {
   "cell_type": "code",
   "execution_count": 6,
   "id": "235c5f2c-8bf5-4fc5-adfd-12f59ea84824",
   "metadata": {},
   "outputs": [],
   "source": [
    "#creating a 2d numpyarray using list\n",
    "listarray =  np.array([[1,2,3] , [5,6,7],[8,9,10]])"
   ]
  },
  {
   "cell_type": "code",
   "execution_count": 7,
   "id": "b65f91fb-762f-4ae8-a943-ec7b2bb805ff",
   "metadata": {},
   "outputs": [
    {
     "data": {
      "text/plain": [
       "array([[ 1,  2,  3],\n",
       "       [ 5,  6,  7],\n",
       "       [ 8,  9, 10]])"
      ]
     },
     "execution_count": 7,
     "metadata": {},
     "output_type": "execute_result"
    }
   ],
   "source": [
    "listarray"
   ]
  },
  {
   "cell_type": "code",
   "execution_count": 8,
   "id": "3fb0a9ff-8bdf-4bb4-bb16-ec9f62ecc688",
   "metadata": {},
   "outputs": [
    {
     "data": {
      "text/plain": [
       "dtype('int32')"
      ]
     },
     "execution_count": 8,
     "metadata": {},
     "output_type": "execute_result"
    }
   ],
   "source": [
    "listarray.dtype"
   ]
  },
  {
   "cell_type": "code",
   "execution_count": 9,
   "id": "121ce098-1036-4eb0-b8d2-4a05a70ffcb5",
   "metadata": {},
   "outputs": [
    {
     "data": {
      "text/plain": [
       "(3, 3)"
      ]
     },
     "execution_count": 9,
     "metadata": {},
     "output_type": "execute_result"
    }
   ],
   "source": [
    "listarray.shape"
   ]
  },
  {
   "cell_type": "code",
   "execution_count": 10,
   "id": "698bcbf2-3ad3-4dda-9dc2-cc3cfb4085e2",
   "metadata": {},
   "outputs": [
    {
     "data": {
      "text/plain": [
       "9"
      ]
     },
     "execution_count": 10,
     "metadata": {},
     "output_type": "execute_result"
    }
   ],
   "source": [
    "listarray.size"
   ]
  },
  {
   "cell_type": "code",
   "execution_count": 14,
   "id": "8d61b907-733e-4266-a297-eef38251d37b",
   "metadata": {},
   "outputs": [],
   "source": [
    "listarray[2,2] = 12"
   ]
  },
  {
   "cell_type": "code",
   "execution_count": 15,
   "id": "e46ff0c7-a2c9-4760-8a7e-635c5d8ad5b2",
   "metadata": {},
   "outputs": [
    {
     "data": {
      "text/plain": [
       "array([[ 1,  2,  3],\n",
       "       [ 5,  6,  7],\n",
       "       [ 8,  9, 12]])"
      ]
     },
     "execution_count": 15,
     "metadata": {},
     "output_type": "execute_result"
    }
   ],
   "source": [
    "listarray"
   ]
  },
  {
   "cell_type": "code",
   "execution_count": 16,
   "id": "cd7e0659-3729-49da-93d9-195248e8ff44",
   "metadata": {},
   "outputs": [
    {
     "data": {
      "text/plain": [
       "array({33, 34, 55}, dtype=object)"
      ]
     },
     "execution_count": 16,
     "metadata": {},
     "output_type": "execute_result"
    }
   ],
   "source": [
    "np.array ({34,33,55}) # create a NumPy array from a set"
   ]
  },
  {
   "cell_type": "markdown",
   "id": "b3ca81a4-1210-4c0b-a497-06c95f21e066",
   "metadata": {},
   "source": [
    "#Inrinsic numpy array creation objects"
   ]
  },
  {
   "cell_type": "code",
   "execution_count": 17,
   "id": "05a8b88d-7c55-4f07-915b-3a663ca32f28",
   "metadata": {},
   "outputs": [],
   "source": [
    "zeros =   np.zeros((2,5)) #gives an 2 by 5 arrays with all eements zeros"
   ]
  },
  {
   "cell_type": "code",
   "execution_count": 18,
   "id": "73e58ae9-bc86-4018-a14b-86cf8c11eb56",
   "metadata": {},
   "outputs": [
    {
     "data": {
      "text/plain": [
       "array([[0., 0., 0., 0., 0.],\n",
       "       [0., 0., 0., 0., 0.]])"
      ]
     },
     "execution_count": 18,
     "metadata": {},
     "output_type": "execute_result"
    }
   ],
   "source": [
    "zeros"
   ]
  },
  {
   "cell_type": "code",
   "execution_count": 19,
   "id": "2ab313f6-e127-493e-948b-e75242f4a188",
   "metadata": {},
   "outputs": [
    {
     "data": {
      "text/plain": [
       "dtype('float64')"
      ]
     },
     "execution_count": 19,
     "metadata": {},
     "output_type": "execute_result"
    }
   ],
   "source": [
    "zeros.dtype"
   ]
  },
  {
   "cell_type": "code",
   "execution_count": 20,
   "id": "c2afef00-4ba6-4550-98ce-2f3f7e63e72d",
   "metadata": {},
   "outputs": [
    {
     "data": {
      "text/plain": [
       "(2, 5)"
      ]
     },
     "execution_count": 20,
     "metadata": {},
     "output_type": "execute_result"
    }
   ],
   "source": [
    "zeros.shape"
   ]
  },
  {
   "cell_type": "code",
   "execution_count": 21,
   "id": "5baa32a3-b774-46b0-9811-b65436d1a3df",
   "metadata": {},
   "outputs": [],
   "source": [
    "range =  np.arange(15)  #gives an  numpy array from 0 to 14"
   ]
  },
  {
   "cell_type": "code",
   "execution_count": 24,
   "id": "c3e68aaa-7d5f-4362-9be1-79b6188ca6c6",
   "metadata": {},
   "outputs": [
    {
     "data": {
      "text/plain": [
       "array([ 0,  1,  2,  3,  4,  5,  6,  7,  8,  9, 10, 11, 12, 13, 14])"
      ]
     },
     "execution_count": 24,
     "metadata": {},
     "output_type": "execute_result"
    }
   ],
   "source": [
    "range \n",
    "#Function: np.arange(start, stop, step, dtype)\n",
    "#generates an array of evenly spaced values within a specified range.\n",
    "#np.arange() is similar to Python's built-in range(), \n",
    "#but it returns a NumPy array instead of a Python range object."
   ]
  },
  {
   "cell_type": "code",
   "execution_count": 32,
   "id": "1b9fd3ba-b37d-4f99-ad05-2cb8f5c12b88",
   "metadata": {},
   "outputs": [],
   "source": [
    "lspace = np.linspace(1,50,10)\n",
    "#np.linspace(start, stop, num))\n",
    "#Generates an array of num evenly spaced values between the start and stop values\n",
    "# It generates an array of 10  evenly spaced values between a start value 1 and stop value 50."
   ]
  },
  {
   "cell_type": "code",
   "execution_count": 33,
   "id": "bf0aa090-70e0-4dda-a1ce-02ab62344fba",
   "metadata": {},
   "outputs": [
    {
     "data": {
      "text/plain": [
       "array([ 1.        ,  6.44444444, 11.88888889, 17.33333333, 22.77777778,\n",
       "       28.22222222, 33.66666667, 39.11111111, 44.55555556, 50.        ])"
      ]
     },
     "execution_count": 33,
     "metadata": {},
     "output_type": "execute_result"
    }
   ],
   "source": [
    "lspace"
   ]
  },
  {
   "cell_type": "code",
   "execution_count": 37,
   "id": "1ba20752-bb93-4ba3-bf6f-65282988319f",
   "metadata": {},
   "outputs": [],
   "source": [
    "lspace= np.linspace(1,5,4)"
   ]
  },
  {
   "cell_type": "code",
   "execution_count": 38,
   "id": "a1f68a58-afa2-49fb-ad86-c932dccbf1f9",
   "metadata": {},
   "outputs": [],
   "source": [
    "lspace = np.linspace(1,4,4)"
   ]
  },
  {
   "cell_type": "code",
   "execution_count": 39,
   "id": "ce6d37da-b100-4da4-a0f4-5d7ab216dccb",
   "metadata": {},
   "outputs": [
    {
     "data": {
      "text/plain": [
       "array([1., 2., 3., 4.])"
      ]
     },
     "execution_count": 39,
     "metadata": {},
     "output_type": "execute_result"
    }
   ],
   "source": [
    "lspace"
   ]
  },
  {
   "cell_type": "code",
   "execution_count": 42,
   "id": "cfa00445-d739-4d1a-9232-25cd1c66ef06",
   "metadata": {},
   "outputs": [],
   "source": [
    "empty = np.empty((4,6)) \n",
    "#gives a 2d array of 4 by 6, ie 4 rows, 6 columns, with garbage value or random vlaue  \n",
    "#alreaady present in memory location"
   ]
  },
  {
   "cell_type": "code",
   "execution_count": 43,
   "id": "76057ef4-1b19-4aa0-8dc1-33296734de95",
   "metadata": {},
   "outputs": [
    {
     "data": {
      "text/plain": [
       "array([[4.67296746e-307, 1.69121096e-306, 1.42418987e-306,\n",
       "        7.56587584e-307, 1.37961302e-306, 1.05699242e-307],\n",
       "       [8.01097889e-307, 1.78020169e-306, 7.56601165e-307,\n",
       "        1.02359984e-306, 1.33510679e-306, 2.22522597e-306],\n",
       "       [1.78019761e-306, 1.37962185e-306, 1.78019625e-306,\n",
       "        6.89812281e-307, 9.34609790e-307, 1.24610723e-306],\n",
       "       [1.05700515e-307, 2.04712906e-306, 7.56589622e-307,\n",
       "        1.11258277e-307, 8.90111708e-307, 8.90095411e-307]])"
      ]
     },
     "execution_count": 43,
     "metadata": {},
     "output_type": "execute_result"
    }
   ],
   "source": [
    "empty"
   ]
  },
  {
   "cell_type": "code",
   "execution_count": 44,
   "id": "4a8b8c29-524d-4a25-b97e-95d290b877f0",
   "metadata": {},
   "outputs": [],
   "source": [
    "empty_like= np.empty_like(lspace) #copies of the size of old arrays and creaets an empty array"
   ]
  },
  {
   "cell_type": "code",
   "execution_count": 46,
   "id": "27747e50-e0f7-46bb-8258-9d7628641bd1",
   "metadata": {},
   "outputs": [
    {
     "data": {
      "text/plain": [
       "array([1., 2., 3., 4.])"
      ]
     },
     "execution_count": 46,
     "metadata": {},
     "output_type": "execute_result"
    }
   ],
   "source": [
    "empty_like  #copies teh"
   ]
  },
  {
   "cell_type": "code",
   "execution_count": 47,
   "id": "7fc0ef13-5d08-49f7-91ca-520747f23cf2",
   "metadata": {},
   "outputs": [],
   "source": [
    "identity = np.identity(45) \n",
    "#create an identity matrix of 45  by  45 size"
   ]
  },
  {
   "cell_type": "code",
   "execution_count": 48,
   "id": "67563810-0953-4197-af3b-acbdefc00f97",
   "metadata": {},
   "outputs": [
    {
     "data": {
      "text/plain": [
       "array([[1., 0., 0., ..., 0., 0., 0.],\n",
       "       [0., 1., 0., ..., 0., 0., 0.],\n",
       "       [0., 0., 1., ..., 0., 0., 0.],\n",
       "       ...,\n",
       "       [0., 0., 0., ..., 1., 0., 0.],\n",
       "       [0., 0., 0., ..., 0., 1., 0.],\n",
       "       [0., 0., 0., ..., 0., 0., 1.]])"
      ]
     },
     "execution_count": 48,
     "metadata": {},
     "output_type": "execute_result"
    }
   ],
   "source": [
    "identity"
   ]
  },
  {
   "cell_type": "code",
   "execution_count": 49,
   "id": "3afb8abf-c741-4e02-a84f-7406080b8dc2",
   "metadata": {},
   "outputs": [
    {
     "data": {
      "text/plain": [
       "(45, 45)"
      ]
     },
     "execution_count": 49,
     "metadata": {},
     "output_type": "execute_result"
    }
   ],
   "source": [
    "identity.shape"
   ]
  },
  {
   "cell_type": "code",
   "execution_count": 50,
   "id": "5e21a0eb-c3a4-49b2-8ce0-2921cc05a63e",
   "metadata": {},
   "outputs": [
    {
     "data": {
      "text/plain": [
       "2025"
      ]
     },
     "execution_count": 50,
     "metadata": {},
     "output_type": "execute_result"
    }
   ],
   "source": [
    "identity.size"
   ]
  },
  {
   "cell_type": "code",
   "execution_count": 51,
   "id": "8c537fd9-29e0-4398-9cc3-d5bac91039e5",
   "metadata": {},
   "outputs": [],
   "source": [
    "newarray =  np.arange(99)"
   ]
  },
  {
   "cell_type": "code",
   "execution_count": 52,
   "id": "bcca8d71-2d13-4c0b-999c-8efde5c713d2",
   "metadata": {},
   "outputs": [
    {
     "data": {
      "text/plain": [
       "array([ 0,  1,  2,  3,  4,  5,  6,  7,  8,  9, 10, 11, 12, 13, 14, 15, 16,\n",
       "       17, 18, 19, 20, 21, 22, 23, 24, 25, 26, 27, 28, 29, 30, 31, 32, 33,\n",
       "       34, 35, 36, 37, 38, 39, 40, 41, 42, 43, 44, 45, 46, 47, 48, 49, 50,\n",
       "       51, 52, 53, 54, 55, 56, 57, 58, 59, 60, 61, 62, 63, 64, 65, 66, 67,\n",
       "       68, 69, 70, 71, 72, 73, 74, 75, 76, 77, 78, 79, 80, 81, 82, 83, 84,\n",
       "       85, 86, 87, 88, 89, 90, 91, 92, 93, 94, 95, 96, 97, 98])"
      ]
     },
     "execution_count": 52,
     "metadata": {},
     "output_type": "execute_result"
    }
   ],
   "source": [
    "newarray"
   ]
  },
  {
   "cell_type": "code",
   "execution_count": 53,
   "id": "c0d58244-f8ca-4ed9-b505-db94fac2fb11",
   "metadata": {},
   "outputs": [],
   "source": [
    "#if i need to reshape"
   ]
  },
  {
   "cell_type": "code",
   "execution_count": 56,
   "id": "f96cb5ec-d888-43a9-bc6e-cf58694855f1",
   "metadata": {},
   "outputs": [
    {
     "data": {
      "text/plain": [
       "array([[ 0,  1,  2,  3,  4,  5,  6,  7,  8,  9, 10, 11, 12, 13, 14, 15,\n",
       "        16, 17, 18, 19, 20, 21, 22, 23, 24, 25, 26, 27, 28, 29, 30, 31,\n",
       "        32],\n",
       "       [33, 34, 35, 36, 37, 38, 39, 40, 41, 42, 43, 44, 45, 46, 47, 48,\n",
       "        49, 50, 51, 52, 53, 54, 55, 56, 57, 58, 59, 60, 61, 62, 63, 64,\n",
       "        65],\n",
       "       [66, 67, 68, 69, 70, 71, 72, 73, 74, 75, 76, 77, 78, 79, 80, 81,\n",
       "        82, 83, 84, 85, 86, 87, 88, 89, 90, 91, 92, 93, 94, 95, 96, 97,\n",
       "        98]])"
      ]
     },
     "execution_count": 56,
     "metadata": {},
     "output_type": "execute_result"
    }
   ],
   "source": [
    "newarray.reshape(3,33) # creates a new array with 3 rows and 33 columns\n",
    "#the numbers 3 and 33  should be the size of 99,  orelse it won't work "
   ]
  },
  {
   "cell_type": "code",
   "execution_count": 57,
   "id": "eca124ad-941d-4783-977e-547d1b0da271",
   "metadata": {},
   "outputs": [
    {
     "ename": "ValueError",
     "evalue": "cannot reshape array of size 99 into shape (3,31)",
     "output_type": "error",
     "traceback": [
      "\u001b[1;31m---------------------------------------------------------------------------\u001b[0m",
      "\u001b[1;31mValueError\u001b[0m                                Traceback (most recent call last)",
      "Cell \u001b[1;32mIn[57], line 1\u001b[0m\n\u001b[1;32m----> 1\u001b[0m newarray\u001b[38;5;241m.\u001b[39mreshape(\u001b[38;5;241m3\u001b[39m,\u001b[38;5;241m31\u001b[39m)\n",
      "\u001b[1;31mValueError\u001b[0m: cannot reshape array of size 99 into shape (3,31)"
     ]
    }
   ],
   "source": [
    "newarray.reshape(3,31) #gives error, beacuse 3*31 is 93, but our original array size was 99.\n"
   ]
  },
  {
   "cell_type": "code",
   "execution_count": 58,
   "id": "0cb1daba-e5ce-4004-bc65-610f001c5ed7",
   "metadata": {},
   "outputs": [
    {
     "data": {
      "text/plain": [
       "array([ 0,  1,  2,  3,  4,  5,  6,  7,  8,  9, 10, 11, 12, 13, 14, 15, 16,\n",
       "       17, 18, 19, 20, 21, 22, 23, 24, 25, 26, 27, 28, 29, 30, 31, 32, 33,\n",
       "       34, 35, 36, 37, 38, 39, 40, 41, 42, 43, 44, 45, 46, 47, 48, 49, 50,\n",
       "       51, 52, 53, 54, 55, 56, 57, 58, 59, 60, 61, 62, 63, 64, 65, 66, 67,\n",
       "       68, 69, 70, 71, 72, 73, 74, 75, 76, 77, 78, 79, 80, 81, 82, 83, 84,\n",
       "       85, 86, 87, 88, 89, 90, 91, 92, 93, 94, 95, 96, 97, 98])"
      ]
     },
     "execution_count": 58,
     "metadata": {},
     "output_type": "execute_result"
    }
   ],
   "source": [
    "newarray"
   ]
  },
  {
   "cell_type": "code",
   "execution_count": 59,
   "id": "65b926e4-2d08-4b66-b0cd-d1d1b23fd423",
   "metadata": {},
   "outputs": [
    {
     "data": {
      "text/plain": [
       "array([ 0,  1,  2,  3,  4,  5,  6,  7,  8,  9, 10, 11, 12, 13, 14, 15, 16,\n",
       "       17, 18, 19, 20, 21, 22, 23, 24, 25, 26, 27, 28, 29, 30, 31, 32, 33,\n",
       "       34, 35, 36, 37, 38, 39, 40, 41, 42, 43, 44, 45, 46, 47, 48, 49, 50,\n",
       "       51, 52, 53, 54, 55, 56, 57, 58, 59, 60, 61, 62, 63, 64, 65, 66, 67,\n",
       "       68, 69, 70, 71, 72, 73, 74, 75, 76, 77, 78, 79, 80, 81, 82, 83, 84,\n",
       "       85, 86, 87, 88, 89, 90, 91, 92, 93, 94, 95, 96, 97, 98])"
      ]
     },
     "execution_count": 59,
     "metadata": {},
     "output_type": "execute_result"
    }
   ],
   "source": [
    "newarray  #hasnt change, newarray.reshape(3,31) gives error, need to perform again,to applychagnes"
   ]
  },
  {
   "cell_type": "code",
   "execution_count": 65,
   "id": "0bfc997f-1554-49fe-9405-f913d68031b9",
   "metadata": {},
   "outputs": [],
   "source": [
    "newarray = newarray.reshape(3,33)"
   ]
  },
  {
   "cell_type": "code",
   "execution_count": 67,
   "id": "946a775a-805e-4cbc-a563-a9cb11fd8675",
   "metadata": {},
   "outputs": [
    {
     "data": {
      "text/plain": [
       "array([[ 0,  1,  2,  3,  4,  5,  6,  7,  8,  9, 10, 11, 12, 13, 14, 15,\n",
       "        16, 17, 18, 19, 20, 21, 22, 23, 24, 25, 26, 27, 28, 29, 30, 31,\n",
       "        32],\n",
       "       [33, 34, 35, 36, 37, 38, 39, 40, 41, 42, 43, 44, 45, 46, 47, 48,\n",
       "        49, 50, 51, 52, 53, 54, 55, 56, 57, 58, 59, 60, 61, 62, 63, 64,\n",
       "        65],\n",
       "       [66, 67, 68, 69, 70, 71, 72, 73, 74, 75, 76, 77, 78, 79, 80, 81,\n",
       "        82, 83, 84, 85, 86, 87, 88, 89, 90, 91, 92, 93, 94, 95, 96, 97,\n",
       "        98]])"
      ]
     },
     "execution_count": 67,
     "metadata": {},
     "output_type": "execute_result"
    }
   ],
   "source": [
    "newarray #gives the updated array"
   ]
  },
  {
   "cell_type": "code",
   "execution_count": 74,
   "id": "e2ac60b3-ae36-4832-8801-17cc6d6fba0a",
   "metadata": {},
   "outputs": [],
   "source": [
    "newarray  =newarray.ravel() #flatten a multi-dimensional array into a 1D array"
   ]
  },
  {
   "cell_type": "code",
   "execution_count": 75,
   "id": "286ba12a-6df7-4f98-a8b5-dc80554674e4",
   "metadata": {},
   "outputs": [
    {
     "data": {
      "text/plain": [
       "array([ 0,  1,  2,  3,  4,  5,  6,  7,  8,  9, 10, 11, 12, 13, 14, 15, 16,\n",
       "       17, 18, 19, 20, 21, 22, 23, 24, 25, 26, 27, 28, 29, 30, 31, 32, 33,\n",
       "       34, 35, 36, 37, 38, 39, 40, 41, 42, 43, 44, 45, 46, 47, 48, 49, 50,\n",
       "       51, 52, 53, 54, 55, 56, 57, 58, 59, 60, 61, 62, 63, 64, 65, 66, 67,\n",
       "       68, 69, 70, 71, 72, 73, 74, 75, 76, 77, 78, 79, 80, 81, 82, 83, 84,\n",
       "       85, 86, 87, 88, 89, 90, 91, 92, 93, 94, 95, 96, 97, 98])"
      ]
     },
     "execution_count": 75,
     "metadata": {},
     "output_type": "execute_result"
    }
   ],
   "source": [
    "newarray"
   ]
  },
  {
   "cell_type": "code",
   "execution_count": 73,
   "id": "419716cd-cc38-4149-a693-9988c2d6fae4",
   "metadata": {},
   "outputs": [
    {
     "data": {
      "text/plain": [
       "(99,)"
      ]
     },
     "execution_count": 73,
     "metadata": {},
     "output_type": "execute_result"
    }
   ],
   "source": [
    "newarray.shape"
   ]
  },
  {
   "cell_type": "markdown",
   "id": "f5ad1fa3-8654-42e6-a478-2112d31bf89a",
   "metadata": {},
   "source": [
    "#AXIS IN NUMPY"
   ]
  },
  {
   "cell_type": "code",
   "execution_count": null,
   "id": "bac02d3f-c568-4cd1-a07e-3635fca70173",
   "metadata": {},
   "outputs": [],
   "source": []
  }
 ],
 "metadata": {
  "kernelspec": {
   "display_name": "Python 3 (ipykernel)",
   "language": "python",
   "name": "python3"
  },
  "language_info": {
   "codemirror_mode": {
    "name": "ipython",
    "version": 3
   },
   "file_extension": ".py",
   "mimetype": "text/x-python",
   "name": "python",
   "nbconvert_exporter": "python",
   "pygments_lexer": "ipython3",
   "version": "3.12.4"
  }
 },
 "nbformat": 4,
 "nbformat_minor": 5
}
