{
 "cells": [
  {
   "cell_type": "code",
   "execution_count": 1,
   "id": "e0dca08e-ff78-4b05-ab99-a3f02c10500a",
   "metadata": {},
   "outputs": [],
   "source": [
    "import numpy as np"
   ]
  },
  {
   "cell_type": "code",
   "execution_count": 2,
   "id": "ce7c1498-d9d3-487a-9c7e-1552c3729862",
   "metadata": {},
   "outputs": [
    {
     "name": "stdout",
     "output_type": "stream",
     "text": [
      "[20 30 40 50 60]\n"
     ]
    }
   ],
   "source": [
    "a = [20,30,40,50,60]\n",
    "arr= np.array(a)\n",
    "print(arr)"
   ]
  },
  {
   "cell_type": "code",
   "execution_count": 3,
   "id": "87cdbebe-addb-4c9c-a917-418801cc945e",
   "metadata": {},
   "outputs": [
    {
     "name": "stdout",
     "output_type": "stream",
     "text": [
      "(5,)\n"
     ]
    }
   ],
   "source": [
    "print(arr.shape) #gives the number of elements"
   ]
  },
  {
   "cell_type": "code",
   "execution_count": 4,
   "id": "fffd0e6f-61be-4782-8d69-d878b129e2ab",
   "metadata": {},
   "outputs": [
    {
     "name": "stdout",
     "output_type": "stream",
     "text": [
      "5\n"
     ]
    }
   ],
   "source": [
    "print(len(arr)) #length "
   ]
  },
  {
   "cell_type": "code",
   "execution_count": 5,
   "id": "f756e176-0d0b-4ab7-8c7e-bf8f39c3c3cc",
   "metadata": {},
   "outputs": [
    {
     "name": "stdout",
     "output_type": "stream",
     "text": [
      "5\n"
     ]
    }
   ],
   "source": [
    "print(np.size(arr)) #Gives the size"
   ]
  },
  {
   "cell_type": "code",
   "execution_count": 6,
   "id": "c67e33a1-6d55-4f16-b3fa-98fdfb1ac5c7",
   "metadata": {},
   "outputs": [
    {
     "name": "stdout",
     "output_type": "stream",
     "text": [
      "<class 'numpy.ndarray'>\n"
     ]
    }
   ],
   "source": [
    "print(type(arr))"
   ]
  },
  {
   "cell_type": "code",
   "execution_count": 7,
   "id": "1471e315-0c62-497e-9775-72da71f478a6",
   "metadata": {},
   "outputs": [
    {
     "name": "stdout",
     "output_type": "stream",
     "text": [
      "int32\n"
     ]
    }
   ],
   "source": [
    "print(arr.dtype)"
   ]
  },
  {
   "cell_type": "code",
   "execution_count": 8,
   "id": "1f0d342f-d1e9-4d32-a88f-42525bfe8d9d",
   "metadata": {},
   "outputs": [
    {
     "name": "stdout",
     "output_type": "stream",
     "text": [
      "[20. 30. 40. 50. 60.]\n"
     ]
    }
   ],
   "source": [
    "print(arr.astype(float))  #conversion into float\n"
   ]
  },
  {
   "cell_type": "code",
   "execution_count": 9,
   "id": "ee2f6547-84dd-47ea-83d2-84acdd981b30",
   "metadata": {},
   "outputs": [
    {
     "name": "stdout",
     "output_type": "stream",
     "text": [
      "[[1, 2, 3, 4, 5], [6, 7, 8, 9, 10]]\n"
     ]
    }
   ],
   "source": [
    "b= [[1,2,3,4,5], [6,7,8,9,10]]\n",
    "newarr= np.array(b)\n",
    "print(b)"
   ]
  },
  {
   "cell_type": "code",
   "execution_count": 10,
   "id": "9e2da0d2-44e9-447c-9918-f6f0849bb972",
   "metadata": {},
   "outputs": [
    {
     "name": "stdout",
     "output_type": "stream",
     "text": [
      "(2, 5)\n"
     ]
    }
   ],
   "source": [
    "print(newarr.shape)"
   ]
  },
  {
   "cell_type": "code",
   "execution_count": 11,
   "id": "279086d0-70c2-44f4-b25e-ffee4462bb16",
   "metadata": {},
   "outputs": [
    {
     "name": "stdout",
     "output_type": "stream",
     "text": [
      "2\n"
     ]
    }
   ],
   "source": [
    "print(len(newarr))"
   ]
  },
  {
   "cell_type": "code",
   "execution_count": 12,
   "id": "c7da0bd1-02ab-4189-bdec-95b278c1a513",
   "metadata": {},
   "outputs": [
    {
     "name": "stdout",
     "output_type": "stream",
     "text": [
      "10\n"
     ]
    }
   ],
   "source": [
    "print(np.size(newarr))"
   ]
  },
  {
   "cell_type": "code",
   "execution_count": 13,
   "id": "5029089f-9c21-4d2f-a979-a01db80bb721",
   "metadata": {},
   "outputs": [
    {
     "name": "stdout",
     "output_type": "stream",
     "text": [
      "<class 'numpy.ndarray'>\n"
     ]
    }
   ],
   "source": [
    "print(type(newarr))"
   ]
  },
  {
   "cell_type": "code",
   "execution_count": 14,
   "id": "46316299-5b96-4897-aee2-8ad44e174d46",
   "metadata": {},
   "outputs": [
    {
     "name": "stdout",
     "output_type": "stream",
     "text": [
      "int32\n"
     ]
    }
   ],
   "source": [
    "print((newarr.dtype))"
   ]
  },
  {
   "cell_type": "code",
   "execution_count": 15,
   "id": "725413b4-de80-439a-9a80-98888aabc776",
   "metadata": {},
   "outputs": [
    {
     "name": "stdout",
     "output_type": "stream",
     "text": [
      "[[ 1.  2.  3.  4.  5.]\n",
      " [ 6.  7.  8.  9. 10.]]\n"
     ]
    }
   ],
   "source": [
    "print(newarr.astype(float)) #coonverts the values into float."
   ]
  }
 ],
 "metadata": {
  "kernelspec": {
   "display_name": "Python 3 (ipykernel)",
   "language": "python",
   "name": "python3"
  },
  "language_info": {
   "codemirror_mode": {
    "name": "ipython",
    "version": 3
   },
   "file_extension": ".py",
   "mimetype": "text/x-python",
   "name": "python",
   "nbconvert_exporter": "python",
   "pygments_lexer": "ipython3",
   "version": "3.12.4"
  }
 },
 "nbformat": 4,
 "nbformat_minor": 5
}
