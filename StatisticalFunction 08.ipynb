{
 "cells": [
  {
   "cell_type": "code",
   "execution_count": 1,
   "id": "dc2d729f-2a2e-4c66-80db-a1d24a143d34",
   "metadata": {},
   "outputs": [],
   "source": [
    "import numpy as np"
   ]
  },
  {
   "cell_type": "code",
   "execution_count": 2,
   "id": "b3cf5f23-189d-4ae4-a426-e3709660d91b",
   "metadata": {},
   "outputs": [],
   "source": [
    "arr = np.array([1, 2, 3, 4, 5])"
   ]
  },
  {
   "cell_type": "code",
   "execution_count": 3,
   "id": "4b0f30b8-d846-41f5-b99f-319e0bb01dc4",
   "metadata": {},
   "outputs": [
    {
     "name": "stdout",
     "output_type": "stream",
     "text": [
      "3.0\n"
     ]
    }
   ],
   "source": [
    "print(np.mean(arr))"
   ]
  },
  {
   "cell_type": "code",
   "execution_count": 4,
   "id": "65a418e2-740d-4a8c-bd9d-47f26bf56749",
   "metadata": {},
   "outputs": [
    {
     "name": "stdout",
     "output_type": "stream",
     "text": [
      "3.0\n"
     ]
    }
   ],
   "source": [
    "print(np.median(arr))"
   ]
  },
  {
   "cell_type": "code",
   "execution_count": 5,
   "id": "c4416d6a-9c4c-4b5b-81eb-164cca91eb35",
   "metadata": {},
   "outputs": [
    {
     "name": "stdout",
     "output_type": "stream",
     "text": [
      "2.0\n"
     ]
    }
   ],
   "source": [
    "print(np.var(arr))"
   ]
  },
  {
   "cell_type": "code",
   "execution_count": 6,
   "id": "41e1da32-2ccd-4bdd-ad39-0406cea50f1d",
   "metadata": {},
   "outputs": [
    {
     "name": "stdout",
     "output_type": "stream",
     "text": [
      "1.4142135623730951\n"
     ]
    }
   ],
   "source": [
    "print(np.std(arr))"
   ]
  },
  {
   "cell_type": "code",
   "execution_count": 8,
   "id": "7b88d804-35a5-4057-9ade-84978e23e227",
   "metadata": {},
   "outputs": [
    {
     "name": "stdout",
     "output_type": "stream",
     "text": [
      "3.0\n",
      "4.6\n"
     ]
    }
   ],
   "source": [
    "print(np.percentile(arr,50))\n",
    "print(np.percentile(arr,90))"
   ]
  },
  {
   "cell_type": "code",
   "execution_count": 13,
   "id": "871d20d5-3667-4e54-8ea8-7c536b4b2ca5",
   "metadata": {},
   "outputs": [
    {
     "name": "stdout",
     "output_type": "stream",
     "text": [
      "1\n",
      "5\n"
     ]
    }
   ],
   "source": [
    "print(np.min(arr))\n",
    "print(np.max(arr))"
   ]
  },
  {
   "cell_type": "code",
   "execution_count": 15,
   "id": "54002a19-a538-4e37-8569-011048282fc6",
   "metadata": {},
   "outputs": [
    {
     "name": "stdout",
     "output_type": "stream",
     "text": [
      "Range:  4\n"
     ]
    }
   ],
   "source": [
    "print(\"Range: \", np.ptp(arr))"
   ]
  },
  {
   "cell_type": "code",
   "execution_count": 16,
   "id": "5aef8404-5e0e-4193-ad17-9738eb882e86",
   "metadata": {},
   "outputs": [
    {
     "name": "stdout",
     "output_type": "stream",
     "text": [
      "Cumulative Sum [ 1  3  6 10 15]\n"
     ]
    }
   ],
   "source": [
    "print(\"Cumulative Sum\" , np.cumsum(arr))"
   ]
  },
  {
   "cell_type": "code",
   "execution_count": 17,
   "id": "8c662a0e-2cd5-48a7-9e62-9f6f9c3376df",
   "metadata": {},
   "outputs": [
    {
     "name": "stdout",
     "output_type": "stream",
     "text": [
      "Cumulative Product [  1   2   6  24 120]\n"
     ]
    }
   ],
   "source": [
    "print(\"Cumulative Product\" , np.cumprod(arr))"
   ]
  },
  {
   "cell_type": "code",
   "execution_count": null,
   "id": "1fbb1c90-0447-462d-b195-3f49f4e57d82",
   "metadata": {},
   "outputs": [],
   "source": []
  }
 ],
 "metadata": {
  "kernelspec": {
   "display_name": "Python 3 (ipykernel)",
   "language": "python",
   "name": "python3"
  },
  "language_info": {
   "codemirror_mode": {
    "name": "ipython",
    "version": 3
   },
   "file_extension": ".py",
   "mimetype": "text/x-python",
   "name": "python",
   "nbconvert_exporter": "python",
   "pygments_lexer": "ipython3",
   "version": "3.12.4"
  }
 },
 "nbformat": 4,
 "nbformat_minor": 5
}
